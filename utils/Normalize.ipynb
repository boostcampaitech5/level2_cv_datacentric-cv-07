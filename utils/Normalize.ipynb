{
 "cells": [
  {
   "cell_type": "code",
   "execution_count": 1,
   "id": "53cd25f1-6816-4604-b1a2-35c71d0f6ebc",
   "metadata": {},
   "outputs": [],
   "source": [
    "import os\n",
    "import numpy as np\n",
    "import glob\n",
    "from PIL import Image\n",
    "from tqdm.notebook import tqdm"
   ]
  },
  {
   "cell_type": "code",
   "execution_count": 2,
   "id": "b88c4eca-2800-498d-ba14-477bf173add5",
   "metadata": {},
   "outputs": [],
   "source": [
    "data_dir = '/opt/ml/input/data/medical/img/train'\n",
    "img_path = glob.glob(os.path.join(data_dir,'*.jpg'))\n",
    "\n",
    "img_list = []\n",
    "for m in img_path:\n",
    "    img = Image.open(m)\n",
    "\n",
    "    assert img.mode == 'RGB'\n",
    "    \n",
    "    img = np.array(img)\n",
    "    img_list.append(img)"
   ]
  },
  {
   "cell_type": "code",
   "execution_count": 6,
   "id": "cc8c6a58-ed59-4d5f-8579-4dd2529efe39",
   "metadata": {},
   "outputs": [],
   "source": [
    "def calculate_norm(img_list):\n",
    "    # dataset의 axis=1, 2에 대한 평균 산출\n",
    "    mean_ = np.array([np.mean(x, axis=(0, 1)) for x in tqdm(img_list, ascii=True)])\n",
    "    # r, g, b 채널에 대한 각각의 평균 산출\n",
    "    mean_r = mean_[..., 0].mean()\n",
    "    mean_g = mean_[..., 1].mean()\n",
    "    mean_b = mean_[..., 2].mean()\n",
    "\n",
    "    # dataset의 axis=1, 2에 대한 표준편차 산출\n",
    "    std_ = np.array([np.std(x, axis=(0, 1)) for x in tqdm(img_list, ascii=True)])\n",
    "    # r, g, b 채널에 대한 각각의 표준편차 산출\n",
    "    std_r = std_[..., 0].mean()\n",
    "    std_g = std_[..., 1].mean()\n",
    "    std_b = std_[..., 2].mean()\n",
    "    \n",
    "    return (mean_r, mean_g, mean_b), (std_r, std_g, std_b)"
   ]
  },
  {
   "cell_type": "code",
   "execution_count": 7,
   "id": "4b7b5046-452c-4b3e-8611-5bc077a6d239",
   "metadata": {},
   "outputs": [
    {
     "data": {
      "application/json": {
       "ascii": true,
       "bar_format": null,
       "colour": null,
       "elapsed": 0.0059130191802978516,
       "initial": 0,
       "n": 0,
       "ncols": null,
       "nrows": null,
       "postfix": null,
       "prefix": "",
       "rate": null,
       "total": 100,
       "unit": "it",
       "unit_divisor": 1000,
       "unit_scale": false
      },
      "application/vnd.jupyter.widget-view+json": {
       "model_id": "5a658e15683a4d2595deb650c43e4670",
       "version_major": 2,
       "version_minor": 0
      },
      "text/plain": [
       "  0%|          | 0/100 [00:00<?, ?it/s]"
      ]
     },
     "metadata": {},
     "output_type": "display_data"
    },
    {
     "data": {
      "application/json": {
       "ascii": true,
       "bar_format": null,
       "colour": null,
       "elapsed": 0.005402326583862305,
       "initial": 0,
       "n": 0,
       "ncols": null,
       "nrows": null,
       "postfix": null,
       "prefix": "",
       "rate": null,
       "total": 100,
       "unit": "it",
       "unit_divisor": 1000,
       "unit_scale": false
      },
      "application/vnd.jupyter.widget-view+json": {
       "model_id": "b2cea9194f044a95a3f7e6ded31d13de",
       "version_major": 2,
       "version_minor": 0
      },
      "text/plain": [
       "  0%|          | 0/100 [00:00<?, ?it/s]"
      ]
     },
     "metadata": {},
     "output_type": "display_data"
    },
    {
     "data": {
      "text/plain": [
       "((197.88636957416463, 196.91687173457726, 195.6095915414491),\n",
       " (43.78932083574691, 45.61180073463784, 47.63103525033557))"
      ]
     },
     "execution_count": 7,
     "metadata": {},
     "output_type": "execute_result"
    }
   ],
   "source": [
    "calculate_norm(img_list)"
   ]
  }
 ],
 "metadata": {
  "kernelspec": {
   "display_name": "Python 3 (ipykernel)",
   "language": "python",
   "name": "python3"
  },
  "language_info": {
   "codemirror_mode": {
    "name": "ipython",
    "version": 3
   },
   "file_extension": ".py",
   "mimetype": "text/x-python",
   "name": "python",
   "nbconvert_exporter": "python",
   "pygments_lexer": "ipython3",
   "version": "3.8.5"
  }
 },
 "nbformat": 4,
 "nbformat_minor": 5
}
