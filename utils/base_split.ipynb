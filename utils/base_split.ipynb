{
 "cells": [
  {
   "cell_type": "code",
   "execution_count": 37,
   "metadata": {},
   "outputs": [
    {
     "name": "stdout",
     "output_type": "stream",
     "text": [
      "number of train images :  80\n",
      "number of validation images :  20\n",
      "number of train images :  80\n",
      "number of validation images :  20\n",
      "number of train images :  80\n",
      "number of validation images :  20\n",
      "number of train images :  80\n",
      "number of validation images :  20\n",
      "number of train images :  80\n",
      "number of validation images :  20\n"
     ]
    }
   ],
   "source": [
    "import json\n",
    "\n",
    "# 원본 JSON 파일 경로\n",
    "json_file_path = \"/opt/ml/input/data/medical/ufo/train.json\"\n",
    "\n",
    "folds = 5\n",
    "\n",
    "# Read origin JSON file\n",
    "with open(json_file_path, 'r', encoding='utf-8') as file:\n",
    "    data = json.load(file)\n",
    "    \n",
    "\n",
    "for fold in range(folds):\n",
    "    \n",
    "    train_images = dict(list(data['images'].items())[:20*fold] + list(data['images'].items())[20*(fold+1):])\n",
    "    val_images = dict(list(data['images'].items())[20*fold:20*(fold+1)])\n",
    "    \n",
    "    ## train/val data\n",
    "    train_data = {'images': train_images}\n",
    "    val_data = {'images': val_images}\n",
    "    \n",
    "    # Create JSON files on working directory\n",
    "    with open(f'train{fold}.json', 'w', encoding='utf-8') as file:\n",
    "        json.dump(train_data, file,indent=4,ensure_ascii=False)\n",
    "    with open(f'val{fold}.json', 'w', encoding='utf-8') as file:\n",
    "        json.dump(val_data, file,indent=4,ensure_ascii=False)\n",
    "    \n",
    "    print(f\"number of fold{fold} train images : \",len(train_images))\n",
    "    print(f\"number of fold{fold} validation images : \",len(val_images))\n"
   ]
  },
  {
   "cell_type": "code",
   "execution_count": null,
   "metadata": {},
   "outputs": [],
   "source": []
  }
 ],
 "metadata": {
  "kernelspec": {
   "display_name": "pytorch",
   "language": "python",
   "name": "python3"
  },
  "language_info": {
   "codemirror_mode": {
    "name": "ipython",
    "version": 3
   },
   "file_extension": ".py",
   "mimetype": "text/x-python",
   "name": "python",
   "nbconvert_exporter": "python",
   "pygments_lexer": "ipython3",
   "version": "3.8.5"
  },
  "orig_nbformat": 4
 },
 "nbformat": 4,
 "nbformat_minor": 2
}
